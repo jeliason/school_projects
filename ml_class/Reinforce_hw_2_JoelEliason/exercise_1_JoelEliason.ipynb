{
 "cells": [
  {
   "cell_type": "markdown",
   "metadata": {},
   "source": [
    "#### <span style=\"color:#a50e3e;\">Exercise 1: </span>  Shortest path using Dynamic Programming"
   ]
  },
  {
   "cell_type": "markdown",
   "metadata": {},
   "source": [
    "Use the fundamental backward / forward Dynamic Programming (DP) recursion discussed in the [course notes](https://www.dropbox.com/s/uikv7oqgsgfjdo3/dynamic_programming_class_notes.pdf?dl=0) to determine the shortest path starting from node **A** and ending at node **G** in the graph shown below.  In the left panel the original graph is shown, while in the right panel the graph is shown with its transition costs along each edge.  "
   ]
  },
  {
   "cell_type": "markdown",
   "metadata": {},
   "source": [
    "<figure>\n",
    "  <img src= 'images/shortest_path_both.png' width=\"100%\" height=\"100%\" alt=\"\"/>\n",
    "<figcaption>  <strong>Figure 1:</strong>   <em>  (left panel) An acyclic directed graph.  (right panel) The same graph with each step transition cost labeled on its corresponding edge. </em>  </figcaption> \n",
    "</figure>"
   ]
  },
  {
   "cell_type": "markdown",
   "metadata": {},
   "source": [
    "For the sake of complete clarity note that the stepwise costs are as follows - where $g\\left(N_1, a^{N_1,N_2}\\right)$ denotes the transition cost of starting at node $N_1$ and transitioning to node $N_2$\n",
    "\n",
    "\\begin{equation}\n",
    "g\\left(A,a^{A,B}\\right) = 3 \\\\\n",
    "g\\left(A,a^{A,C}\\right) = 5 \\\\\n",
    "g\\left(A,a^{A,D}\\right) = 7 \\\\\n",
    "------ \\\\\n",
    "g\\left(B,a^{B,E}\\right) = 2 \\\\\n",
    "g\\left(B,a^{B,C}\\right) = 1 \\\\\n",
    "------ \\\\\n",
    "g\\left(C,a^{C,E}\\right) = 4 \\\\\n",
    "g\\left(C,a^{C,F}\\right) = 4 \\\\\n",
    "------ \\\\\n",
    "g\\left(D,a^{D,G}\\right) = 3 \\\\\n",
    "------ \\\\\n",
    "g\\left(E,a^{E,F}\\right) = 7 \\\\\n",
    "g\\left(E,a^{E,G}\\right) = 2 \\\\\n",
    "------ \\\\\n",
    "g\\left(F,a^{F,G}\\right) = 5 \\\\\n",
    "\\end{equation}\n",
    "\n",
    "A few technical points on how to complete this problem and what to turn in:\n",
    "\n",
    "- *Node update order*: Examining the graph above you can see that there are several ways - in terms of the order of node updates - we could perform the backwards DP recursion for this graph.  However if you think about this recursion we really need to perform it in the particular order given below (why is this?).  Make sure you follow this order of updates when performing your backwards sweep to update $V$.\n",
    "\n",
    "\\begin{equation}\n",
    "D \\longrightarrow F \\longrightarrow E \\longrightarrow C \\longrightarrow B \\longrightarrow A\n",
    "\\end{equation}\n",
    "\n",
    "\n",
    "- Here you are looking to determine the optimal control law which *minimizes* the cost of transitioning from node **A** to node **G**.  Make sure to report the optimal control law / shortest path you find, along with its optimal cost.  Make sure you report both.\n",
    "\n",
    "\n",
    "- *Make sure you show your work here* - if you perform your calculations using pencil and paper make sure to include an image of them - loaded into a cell below - in your final submission. "
   ]
  },
  {
   "cell_type": "markdown",
   "metadata": {},
   "source": [
    "#### Below is my work to find the optimal control law"
   ]
  },
  {
   "cell_type": "markdown",
   "metadata": {},
   "source": [
    "![title](images/prob1.jpg)"
   ]
  },
  {
   "cell_type": "code",
   "execution_count": null,
   "metadata": {},
   "outputs": [],
   "source": []
  }
 ],
 "metadata": {
  "kernelspec": {
   "display_name": "Python 3",
   "language": "python",
   "name": "python3"
  },
  "language_info": {
   "codemirror_mode": {
    "name": "ipython",
    "version": 3
   },
   "file_extension": ".py",
   "mimetype": "text/x-python",
   "name": "python",
   "nbconvert_exporter": "python",
   "pygments_lexer": "ipython3",
   "version": "3.5.2"
  }
 },
 "nbformat": 4,
 "nbformat_minor": 2
}

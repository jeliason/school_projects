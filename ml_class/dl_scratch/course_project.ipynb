{
 "cells": [
  {
   "cell_type": "markdown",
   "metadata": {},
   "source": [
    "# The Effects of Randomness in training Neural Networks"
   ]
  },
  {
   "cell_type": "markdown",
   "metadata": {},
   "source": [
    "### Author: Joel Eliason"
   ]
  },
  {
   "cell_type": "markdown",
   "metadata": {},
   "source": [
    "This project is a joint project for both Optimization in Deep Learning and Deep Learning from Scratch. Therefore, the notebook submitted for the two projects is the same (this notebook)."
   ]
  },
  {
   "cell_type": "markdown",
   "metadata": {},
   "source": [
    "## Introduction"
   ]
  },
  {
   "cell_type": "markdown",
   "metadata": {},
   "source": [
    "In many scientific and commerical applications (including, of course, machine learning), we strive for high precision and accuracy. In fact, a common lay explanation of training neural networks is that, by tuning the weights of a nested composition of functions \"just right\", we are actually able to train a network to compute any function we desire (i.e. Turing completeness). However, many scientific studies have shown that inserting or building in randomness or lower precision into a neural network often results in comparable performance (and in a few cases, performance that exceeds that of its higher precision counterpart). This is apparent, actually, from the widespread use of stochastic gradient descent. This form of gradient descent operates by calculating the gradient of a small subset of samples (often called a batch or minibatch), instead of calculating the gradient on the whole sample set. The fundamental concept motivating this idea (and the ones we will examine below) is that adding noise to training sometimes allows the optimizer to \"jump\" out of shallower local minima in order to travel down steeper, more global minima. What's more, an examination of the effects of randomness in NN training is useful for environments in which lower precision is more of a necessity (for example, neuromorphic computation or embedded systems) or the hardware environment in which training is being performed is more susceptible to noise. Therefore, this project is motivated by the need to understand how generic neural networks will perform when being trained under more adversarial, noisy or memory-constrained conditions."
   ]
  },
  {
   "cell_type": "markdown",
   "metadata": {},
   "source": [
    "In particular, in this project, I will be performing 8 short experiments that subject neural network training to different forms of randomness."
   ]
  },
  {
   "cell_type": "code",
   "execution_count": 1,
   "metadata": {},
   "outputs": [],
   "source": [
    "%matplotlib inline"
   ]
  },
  {
   "cell_type": "markdown",
   "metadata": {},
   "source": [
    "This project will utilize the PyTorch modeling language for all experiments. To run this code, you will need torch and torchvision installed."
   ]
  },
  {
   "cell_type": "code",
   "execution_count": 2,
   "metadata": {},
   "outputs": [],
   "source": [
    "import torch\n",
    "import torchvision\n",
    "import torchvision.transforms as transforms\n",
    "import matplotlib.pyplot as plt\n",
    "import numpy as np\n",
    "import math\n",
    "import torch.optim as optim"
   ]
  },
  {
   "cell_type": "markdown",
   "metadata": {},
   "source": [
    "The following are utility functions. The first allows us to see the images in the data set, while the second one outputs a % accuracy of a trained network on a test set."
   ]
  },
  {
   "cell_type": "code",
   "execution_count": 3,
   "metadata": {},
   "outputs": [],
   "source": [
    "# functions to show an image\n",
    "def imshow(img):\n",
    "    img = img / 2 + 0.5     # unnormalize\n",
    "    npimg = img.numpy()\n",
    "    plt.imshow(np.transpose(npimg, (1, 2, 0)))\n",
    "def accuracy(net):\n",
    "    outputs = net(Variable(images1))\n",
    "    _, predicted = torch.max(outputs.data, 1)\n",
    "    correct = 0\n",
    "    total = 0\n",
    "    for data in testloader:\n",
    "        images, labels = data\n",
    "        outputs = net(Variable(images))\n",
    "        _, predicted = torch.max(outputs.data, 1)\n",
    "        total += labels.size(0)\n",
    "        correct += (predicted == labels).sum()\n",
    "    print('Accuracy of the network on the 10000 test images: %d %%' % (\n",
    "        100 * correct / total))"
   ]
  },
  {
   "cell_type": "markdown",
   "metadata": {},
   "source": [
    "Since neuromorophic computation or embedded systems will most likely utilize smaller neural networks due to memory constraints, in this project I used a 6-layer ConvNet built in PyTorch (in fact, the net I use is a direct clone of the one used in the official tutorial on using PyTorch for deep learning). The 6 layers can be seen below. The first layer is a convolutional layer, in which each \"neuron\" acts as a trainable filter for the input data. Following that is a MaxPool layer, in which the max value in each 2x2 square of the input is taken as the output for that square. The last 3 layers are linear layers, which are fully-connected layers."
   ]
  },
  {
   "cell_type": "code",
   "execution_count": 4,
   "metadata": {},
   "outputs": [],
   "source": [
    "from torch.autograd import Variable\n",
    "import torch.nn as nn\n",
    "import torch.nn.functional as F\n",
    "\n",
    "class Net(nn.Module):\n",
    "    def __init__(self):\n",
    "        super(Net, self).__init__()\n",
    "        self.conv1 = nn.Conv2d(3, 6, 5)\n",
    "        self.pool = nn.MaxPool2d(2, 2)\n",
    "        self.conv2 = nn.Conv2d(6, 16, 5)\n",
    "        self.fc1 = nn.Linear(16 * 5 * 5, 120)\n",
    "        self.fc2 = nn.Linear(120, 84)\n",
    "        self.fc3 = nn.Linear(84, 10)\n",
    "\n",
    "    def forward(self, x):\n",
    "#         x = self.pool(F.relu(self.conv1_bn(self.conv1(x))))\n",
    "        x = self.pool(F.relu(self.conv1(x)))\n",
    "#         x = self.pool(F.relu(self.conv2_bn(self.conv2(x))))\n",
    "        x = self.pool(F.relu(self.conv2(x)))\n",
    "        x = x.view(-1, 16 * 5 * 5)\n",
    "#         x = F.relu(self.fc1_bn(self.fc1(x)))\n",
    "        x = F.relu(self.fc1(x))\n",
    "#         x = F.relu(self.fc2_bn(self.fc2(x)))\n",
    "        x = F.relu(self.fc2(x))\n",
    "        x = self.fc3(x)\n",
    "        return x"
   ]
  },
  {
   "cell_type": "markdown",
   "metadata": {},
   "source": [
    "The following function is my training function. This function takes a 'switch' argument that tells it which experiment to run. As can be seen, there are 8 different experiments that I will be running. Additionally, I will be training for 2 epochs per experiment (2 passes over the training data)."
   ]
  },
  {
   "cell_type": "code",
   "execution_count": 21,
   "metadata": {},
   "outputs": [],
   "source": [
    "def train(switch):\n",
    "    count_jump=0\n",
    "    if switch=='bias':\n",
    "        biases=[];\n",
    "        for p in net.parameters():\n",
    "            biases.append(torch.from_numpy(np.random.uniform(-scale,scale,size=p.data.size())).float())\n",
    "    elif switch=='binarizeweights':\n",
    "        clips=[]\n",
    "        for p in net.parameters():\n",
    "            clips.append(f*np.std(p.data.numpy()))\n",
    "    for epoch in range(2):  # loop over the dataset twice\n",
    "        running_loss = 0.0\n",
    "        for i, data in enumerate(trainloader, 0):\n",
    "            inputs, labels = data\n",
    "            inputs, labels = Variable(inputs), Variable(labels)\n",
    "            optimizer.zero_grad()\n",
    "            outputs = net(inputs)\n",
    "            loss = criterion(outputs, labels)\n",
    "            if switch=='none':\n",
    "                loss.backward()\n",
    "            elif switch=='rgrad':\n",
    "                loss.backward(scale*torch.randn(1,1))\n",
    "            elif switch=='addnoise':\n",
    "                loss.backward()\n",
    "                for p in net.parameters():\n",
    "                    p.grad.data.add_(torch.from_numpy(np.random.normal(0,variance,size=p.data.shape)).float())\n",
    "            elif switch=='mulnoise':\n",
    "                loss.backward()\n",
    "                for p in net.parameters():\n",
    "                    p.grad.data.mul_(torch.from_numpy(np.random.normal(1,variance,size=p.data.shape)).float())\n",
    "            elif switch=='bias':\n",
    "                loss.backward()\n",
    "                count=0\n",
    "                for p in net.parameters():\n",
    "                    p.data.add_(biases[count])\n",
    "                    count+=1\n",
    "            elif switch=='jump':\n",
    "                to_jump=np.random.choice([True, False], size=(1,), p=[1./frequency, np.true_divide((frequency-1),frequency)])\n",
    "                loss.backward()\n",
    "                if to_jump:\n",
    "                    count_jump+=1\n",
    "                    print \"Jump here\"\n",
    "                    for p in net.parameters():\n",
    "                        p.data.add_(torch.from_numpy(np.random.normal(0,variance,size=p.data.shape)).float())\n",
    "            elif switch=='randomizeweights':\n",
    "                for p in net.parameters():\n",
    "                    bools=np.random.choice([1,0],size=p.data.shape,p=[1./frequency, np.true_divide((frequency-1),frequency)])\n",
    "                    bools=torch.from_numpy(bools)\n",
    "                    p.data[bools==1]=0\n",
    "                    rands=torch.from_numpy(np.random.normal(0,variance,size=p.data.shape)).float()\n",
    "                    rands[bools==0]=0\n",
    "                    p.data.add_(rands)\n",
    "                loss.backward()\n",
    "            elif switch=='binarizeweights':\n",
    "                max_weights=[]\n",
    "                weight_holder=[]\n",
    "                count=0\n",
    "                for p in net.parameters():\n",
    "                    max_weights.append(float(np.max(p.data.numpy())))\n",
    "                    weight_holder.append(p.data.clone())\n",
    "                    p.data[p.data<0]=-max_weights[count]\n",
    "                    p.data[p.data>0]=max_weights[count]\n",
    "                    count+=1\n",
    "                optimizer.zero_grad()\n",
    "                outputs = net(inputs)\n",
    "                loss = criterion(outputs, labels)\n",
    "                loss.backward()\n",
    "                count=0\n",
    "                for p in net.parameters():\n",
    "                    p.data=weight_holder[count]\n",
    "                    p.data.clamp(-clips[count],clips[count])\n",
    "                    count+=1\n",
    "            optimizer.step()\n",
    "\n",
    "            # print statistics\n",
    "            running_loss += loss.data[0]\n",
    "            if i % 2000 == 1999:    # print every 2000 mini-batches\n",
    "                print('[%d, %5d] loss: %.3f' %\n",
    "                      (epoch + 1, i + 1, running_loss / 2000))\n",
    "                running_loss = 0.0\n",
    "\n",
    "    print('Finished Training')\n",
    "    if switch=='jump':\n",
    "        print \"Number of jumps = \"+str(count_jump)\n",
    "    elif switch=='binarizeweights':\n",
    "        for p in net.parameters():\n",
    "            p.data[p.data<0]=-1\n",
    "            p.data[p.data>0]=1"
   ]
  },
  {
   "cell_type": "markdown",
   "metadata": {},
   "source": [
    "#### Data loading"
   ]
  },
  {
   "cell_type": "markdown",
   "metadata": {},
   "source": [
    "The output of torchvision datasets are PILImage images of range [0, 1].\n",
    "We transform them to Tensors of normalized range [-1, 1]\n",
    "\n"
   ]
  },
  {
   "cell_type": "code",
   "execution_count": 8,
   "metadata": {},
   "outputs": [
    {
     "name": "stdout",
     "output_type": "stream",
     "text": [
      "Files already downloaded and verified\n",
      "Files already downloaded and verified\n"
     ]
    }
   ],
   "source": [
    "transform = transforms.Compose(\n",
    "    [transforms.ToTensor(),\n",
    "     transforms.Normalize((0.5, 0.5, 0.5), (0.5, 0.5, 0.5))])\n",
    "\n",
    "trainset = torchvision.datasets.CIFAR10(root='./data', train=True,\n",
    "                                        download=True, transform=transform)\n",
    "trainloader = torch.utils.data.DataLoader(trainset, batch_size=4,\n",
    "                                          shuffle=True, num_workers=2)\n",
    "\n",
    "testset = torchvision.datasets.CIFAR10(root='./data', train=False,\n",
    "                                       download=True, transform=transform)\n",
    "testloader = torch.utils.data.DataLoader(testset, batch_size=4,\n",
    "                                         shuffle=False, num_workers=2)\n",
    "\n",
    "classes = ('plane', 'car', 'bird', 'cat',\n",
    "           'deer', 'dog', 'frog', 'horse', 'ship', 'truck')"
   ]
  },
  {
   "cell_type": "markdown",
   "metadata": {},
   "source": [
    "Here's some of the images that our network will be seeing during training:"
   ]
  },
  {
   "cell_type": "code",
   "execution_count": 9,
   "metadata": {},
   "outputs": [
    {
     "name": "stdout",
     "output_type": "stream",
     "text": [
      "  dog truck   dog  frog\n"
     ]
    },
    {
     "data": {
      "image/png": "[encoded data removed]",
      "text/plain": [
       "<matplotlib.figure.Figure at 0x7f2dd3e9a250>"
      ]
     },
     "metadata": {},
     "output_type": "display_data"
    }
   ],
   "source": [
    "# get some random training images\n",
    "dataiter = iter(trainloader)\n",
    "images1, labels = dataiter.next()\n",
    "\n",
    "# show images\n",
    "imshow(torchvision.utils.make_grid(images1))\n",
    "# print labels\n",
    "print(' '.join('%5s' % classes[labels[j]] for j in range(4)))"
   ]
  },
  {
   "cell_type": "markdown",
   "metadata": {},
   "source": [
    "## Experiments"
   ]
  },
  {
   "cell_type": "markdown",
   "metadata": {},
   "source": [
    "#### 1. No stochasticity"
   ]
  },
  {
   "cell_type": "markdown",
   "metadata": {},
   "source": [
    "In this first experiment, we establish a baseline: here, we have done training without any weight or gradient distortions or perturbations. As we can see, for being such a small ConvNet and for only training for 2 epochs, we get quite good performance."
   ]
  },
  {
   "cell_type": "code",
   "execution_count": 10,
   "metadata": {},
   "outputs": [],
   "source": [
    "net = Net()\n",
    "criterion = nn.CrossEntropyLoss()\n",
    "optimizer = optim.SGD(net.parameters(), lr=0.001, momentum=0.9)"
   ]
  },
  {
   "cell_type": "code",
   "execution_count": 11,
   "metadata": {},
   "outputs": [
    {
     "name": "stdout",
     "output_type": "stream",
     "text": [
      "[1,  2000] loss: 2.161\n",
      "[1,  4000] loss: 1.818\n",
      "[1,  6000] loss: 1.655\n",
      "[1,  8000] loss: 1.558\n",
      "[1, 10000] loss: 1.512\n",
      "[1, 12000] loss: 1.453\n",
      "[2,  2000] loss: 1.389\n",
      "[2,  4000] loss: 1.353\n",
      "[2,  6000] loss: 1.357\n",
      "[2,  8000] loss: 1.320\n",
      "[2, 10000] loss: 1.301\n",
      "[2, 12000] loss: 1.272\n",
      "Finished Training\n"
     ]
    }
   ],
   "source": [
    "train('none')"
   ]
  },
  {
   "cell_type": "code",
   "execution_count": 12,
   "metadata": {},
   "outputs": [
    {
     "name": "stdout",
     "output_type": "stream",
     "text": [
      "Accuracy of the network on the 10000 test images: 55 %\n"
     ]
    }
   ],
   "source": [
    "accuracy(net)"
   ]
  },
  {
   "cell_type": "markdown",
   "metadata": {},
   "source": [
    "#### 2. Random gradients"
   ]
  },
  {
   "cell_type": "markdown",
   "metadata": {},
   "source": [
    "In this experiment, I test the hypothesis that we don't need to retain any information about the cost function at all when starting backpropagation (this hypothesis is, of course, ludicrous, since without cost function gradient information, we are just doing a random walk around the cost function). Nevertheless, this helps us establish a baseline of \"maximum randomness\" to compare against in further experiments."
   ]
  },
  {
   "cell_type": "code",
   "execution_count": 99,
   "metadata": {},
   "outputs": [],
   "source": [
    "net = Net()\n",
    "criterion = nn.CrossEntropyLoss()\n",
    "optimizer = optim.SGD(net.parameters(), lr=0.001, momentum=0.9)\n",
    "scale=0.2"
   ]
  },
  {
   "cell_type": "code",
   "execution_count": 24,
   "metadata": {},
   "outputs": [
    {
     "name": "stdout",
     "output_type": "stream",
     "text": [
      "[1,  2000] loss: 2.307\n",
      "[1,  4000] loss: 2.304\n",
      "[1,  6000] loss: 2.306\n",
      "[1,  8000] loss: 2.305\n",
      "[1, 10000] loss: 2.305\n",
      "[1, 12000] loss: 2.304\n",
      "[2,  2000] loss: 2.307\n",
      "[2,  4000] loss: 2.307\n",
      "[2,  6000] loss: 2.306\n",
      "[2,  8000] loss: 2.306\n",
      "[2, 10000] loss: 2.308\n",
      "[2, 12000] loss: 2.307\n",
      "Finished Training\n"
     ]
    }
   ],
   "source": [
    "train('rgrad')"
   ]
  },
  {
   "cell_type": "code",
   "execution_count": 25,
   "metadata": {},
   "outputs": [
    {
     "name": "stdout",
     "output_type": "stream",
     "text": [
      "Accuracy of the network on the 10000 test images: 10 %\n"
     ]
    }
   ],
   "source": [
    "accuracy(net)"
   ]
  },
  {
   "cell_type": "markdown",
   "metadata": {},
   "source": [
    "### Additive and multiplicative noise"
   ]
  },
  {
   "cell_type": "markdown",
   "metadata": {},
   "source": [
    "#### 3. Adding white noise to the gradient"
   ]
  },
  {
   "cell_type": "markdown",
   "metadata": {},
   "source": [
    "In this experiment, I implement a common practice in training neural networks: that of adding noise during training to improve training. The intuition behind this is the same as in stochastic gradient descent: a little bit of randomness can allow us to escape shallower local minima, in favor of (hopefully) deeper minima.  In this particular implementation, I add noise to the gradients (rather than the weights themselves). This experiment was inspired by Ref. [1], which implements the noise according to a particular schedule. Here, however, I simply add a small bit of normally-distributed noise to the gradient of the cost wrt every weight during each minibatch. As it turns out, with a network this small and low numbers of epochs, the impact of noise is very slight (in fact, in this case has no impact on the classification error). Additionally, the variance of this noise is another knob to tune here: too high of variance leads to divergence in the cost function, while too low will have no impact on training at all. During my experiments, I could not find a noise variance that had a significantly positive impact on training, which matches my intuition. However, variance that yields even quite large (relatively speaking) noise signals does not have that detrimental of an impact (see below: variance = 0.1 yields a 47% accuracy, not much lower than the totally noise-free training above)."
   ]
  },
  {
   "cell_type": "code",
   "execution_count": 19,
   "metadata": {},
   "outputs": [],
   "source": [
    "net = Net()\n",
    "criterion = nn.CrossEntropyLoss()\n",
    "optimizer = optim.SGD(net.parameters(), lr=0.001, momentum=0.9)\n",
    "variance=0.1"
   ]
  },
  {
   "cell_type": "code",
   "execution_count": 20,
   "metadata": {
    "scrolled": true
   },
   "outputs": [
    {
     "name": "stdout",
     "output_type": "stream",
     "text": [
      "[1,  2000] loss: 2.205\n",
      "[1,  4000] loss: 1.831\n",
      "[1,  6000] loss: 1.716\n",
      "[1,  8000] loss: 1.633\n",
      "[1, 10000] loss: 1.586\n",
      "[1, 12000] loss: 1.567\n",
      "[2,  2000] loss: 1.535\n",
      "[2,  4000] loss: 1.510\n",
      "[2,  6000] loss: 1.501\n",
      "[2,  8000] loss: 1.504\n",
      "[2, 10000] loss: 1.493\n",
      "[2, 12000] loss: 1.495\n",
      "Finished Training\n"
     ]
    }
   ],
   "source": [
    "train('addnoise')"
   ]
  },
  {
   "cell_type": "code",
   "execution_count": 21,
   "metadata": {},
   "outputs": [
    {
     "name": "stdout",
     "output_type": "stream",
     "text": [
      "Accuracy of the network on the 10000 test images: 47 %\n"
     ]
    }
   ],
   "source": [
    "accuracy(net)"
   ]
  },
  {
   "cell_type": "markdown",
   "metadata": {},
   "source": [
    "#### 4. Multiplying the gradient by white noise"
   ]
  },
  {
   "cell_type": "markdown",
   "metadata": {},
   "source": [
    "This experiment is a slightly different tack on the previous one. Here, instead of adding noise to the gradients, I multiply each gradient during each minibatch by a small bit of normally distributed noise (with mean 1). This is, in theory, very similar to adding noise to the gradients. However, here we can use a much larger variance than in the additive noise case (try it! set both additive and multiplicative variance to 0.1). It's not intuitively clear to me why this should be the case, so further experiments could be designed to probe this case further. Again, in this experiment, the variance is the knob to tune. "
   ]
  },
  {
   "cell_type": "code",
   "execution_count": 40,
   "metadata": {},
   "outputs": [],
   "source": [
    "net = Net()\n",
    "criterion = nn.CrossEntropyLoss()\n",
    "optimizer = optim.SGD(net.parameters(), lr=0.001, momentum=0.9)\n",
    "variance=0.1"
   ]
  },
  {
   "cell_type": "code",
   "execution_count": 35,
   "metadata": {},
   "outputs": [
    {
     "name": "stdout",
     "output_type": "stream",
     "text": [
      "[1,  2000] loss: 2.196\n",
      "[1,  4000] loss: 1.894\n",
      "[1,  6000] loss: 1.707\n",
      "[1,  8000] loss: 1.592\n",
      "[1, 10000] loss: 1.551\n",
      "[1, 12000] loss: 1.478\n",
      "[2,  2000] loss: 1.432\n",
      "[2,  4000] loss: 1.420\n",
      "[2,  6000] loss: 1.398\n",
      "[2,  8000] loss: 1.387\n",
      "[2, 10000] loss: 1.365\n",
      "[2, 12000] loss: 1.357\n",
      "Finished Training\n"
     ]
    }
   ],
   "source": [
    "train('mulnoise')"
   ]
  },
  {
   "cell_type": "code",
   "execution_count": 36,
   "metadata": {},
   "outputs": [
    {
     "name": "stdout",
     "output_type": "stream",
     "text": [
      "Accuracy of the network on the 10000 test images: 52 %\n"
     ]
    }
   ],
   "source": [
    "accuracy(net)"
   ]
  },
  {
   "cell_type": "markdown",
   "metadata": {},
   "source": [
    "### Perturbing weights"
   ]
  },
  {
   "cell_type": "markdown",
   "metadata": {},
   "source": [
    "#### 5. Constant bias added to weights after every backward pass"
   ]
  },
  {
   "cell_type": "markdown",
   "metadata": {},
   "source": [
    "This experiment was a failed attempt at feedback alignment (Ref.[2]), in which error information is backpropagated along random channels (instead of along the channels that connect each neuron in each layer). However, tthe time cost with which I was having to break down the PyTorch code to implement this was becoming prohibitive, so I simply ended up adding a constant bias to each weight after every backward pass. This experiment has no theoretical basis for actually working, since adding a constant (uniformly distributed) bias will always steer the weights along the cost function in a counterproductive direction, unless that bias happens to be in the direction of steepest descent (which is exponentially unlikely in such a high-dimensional space). The knob to tune here is the magnitude of the bias (the scale parameter below). Gradient descent is unable to compensate for a bias that is larger than the learning rate - thus, the key to compensating for such a bias is to have an adaptive learning rate, in which the network \"realizes\" that it is being biased in a counterproductive direction and then compensates by updating the learning rate to be larger than the magnitude of the bias."
   ]
  },
  {
   "cell_type": "code",
   "execution_count": 22,
   "metadata": {},
   "outputs": [],
   "source": [
    "net = Net()\n",
    "criterion = nn.CrossEntropyLoss()\n",
    "optimizer = optim.SGD(net.parameters(), lr=0.001, momentum=0.9)\n",
    "scale=0.001"
   ]
  },
  {
   "cell_type": "code",
   "execution_count": 23,
   "metadata": {},
   "outputs": [
    {
     "name": "stdout",
     "output_type": "stream",
     "text": [
      "[1,  2000] loss: 11.647\n",
      "[1,  4000] loss: nan\n",
      "[1,  6000] loss: nan\n",
      "[1,  8000] loss: nan\n",
      "[1, 10000] loss: nan\n",
      "[1, 12000] loss: nan\n",
      "[2,  2000] loss: nan\n",
      "[2,  4000] loss: nan\n",
      "[2,  6000] loss: nan\n",
      "[2,  8000] loss: nan\n",
      "[2, 10000] loss: nan\n",
      "[2, 12000] loss: nan\n",
      "Finished Training\n"
     ]
    }
   ],
   "source": [
    "train('bias')"
   ]
  },
  {
   "cell_type": "code",
   "execution_count": 24,
   "metadata": {},
   "outputs": [
    {
     "name": "stdout",
     "output_type": "stream",
     "text": [
      "Accuracy of the network on the 10000 test images: 10 %\n"
     ]
    }
   ],
   "source": [
    "accuracy(net)"
   ]
  },
  {
   "cell_type": "markdown",
   "metadata": {},
   "source": [
    "#### 6. Stochastic jump to new area of cost function"
   ]
  },
  {
   "cell_type": "markdown",
   "metadata": {},
   "source": [
    "There are many minima that are approximately equally as good as one another in the high-dimensional cost function space. This experiment was designed to explore the cost function space more thoroughly: at random times, a random jump is administed to all the weights in the net, \"jumping\" it to a completely different area of the cost function that would have otherwise been unexplored. The frequency of jumps is the varying parameter here. If there are too many jumps, the cost function doesn't get too far beyond taking a few optimizing steps before jumping to a new location. Here, jump times are assigned randomly - however, one could imagine a better version of this \"cost function exploration\" idea as deciding to jump when the magnitude of the gradient drops below a certain threshold (indicating a shallowing out of the cost function), but the cost function itself is still above a different threshold. This would, in essence, allow the net to escape saddle points, which often trap optimizers. Additionally, I tried increasing the learning rate, so that optimization could proceed more quickly once a jump had been made. However,  I was not able to show that this had a positive impact, for any frequency. All in all, stochastic jumping, as implemented here, reduced neural network training to \"maximum randomness\". When testing, this frequency should not be much greater than about 20000 (otherwise jumps never occur)."
   ]
  },
  {
   "cell_type": "code",
   "execution_count": 39,
   "metadata": {},
   "outputs": [],
   "source": [
    "net = Net()\n",
    "criterion = nn.CrossEntropyLoss()\n",
    "optimizer = optim.SGD(net.parameters(), lr=0.001, momentum=0.9) # could try increasing the learning rate in this experiment\n",
    "frequency=20000 # this is actually inverse of frequency, so the higher the frequency, the less jumps\n",
    "variance = 1 # if variance = 0.1, training does not get totally upended (since weights don't move as far) as it does with variance = 1"
   ]
  },
  {
   "cell_type": "code",
   "execution_count": 40,
   "metadata": {},
   "outputs": [
    {
     "name": "stdout",
     "output_type": "stream",
     "text": [
      "[1,  2000] loss: 2.160\n",
      "[1,  4000] loss: 1.848\n",
      "[1,  6000] loss: 1.717\n",
      "[1,  8000] loss: 1.586\n",
      "[1, 10000] loss: 1.524\n",
      "Jump here\n",
      "[1, 12000] loss: nan\n",
      "[2,  2000] loss: nan\n",
      "[2,  4000] loss: nan\n",
      "[2,  6000] loss: nan\n",
      "[2,  8000] loss: nan\n",
      "[2, 10000] loss: nan\n",
      "[2, 12000] loss: nan\n",
      "Finished Training\n",
      "Number of jumps = 1\n"
     ]
    }
   ],
   "source": [
    "train('jump')"
   ]
  },
  {
   "cell_type": "code",
   "execution_count": 41,
   "metadata": {},
   "outputs": [
    {
     "name": "stdout",
     "output_type": "stream",
     "text": [
      "Accuracy of the network on the 10000 test images: 10 %\n"
     ]
    }
   ],
   "source": [
    "accuracy(net)"
   ]
  },
  {
   "cell_type": "markdown",
   "metadata": {},
   "source": [
    "#### 7. Binarize weights"
   ]
  },
  {
   "cell_type": "markdown",
   "metadata": {},
   "source": [
    "This concept was the most interesting one that I examined. In this experiment, I restricted the values of the weights and activations on the forward and backward pass to be 1 and -1. Such a weight projection is called \"low-precision\", since these weights only require 1 bit of precision to be stored. Such low demands on memory are highly desirable for embedded systems and neuromorphic computing, which are often strapped for memory and power consumption. At least a few papers have shown that binary neural networks (BNNs) perform similarly to higher precision neural networks (Refs. [3], [4]). In my experiment, I was not able to achieve any sort of good performance, even after implementing the exact algorithm from these references. My opinion on this is that my ConvNet is much smaller than in those references, and thus may not be able to encode very complex representations using only binary weights. Of course, further experimentation with various architectures would be needed to really flesh out the utility of binarization for small neural nets."
   ]
  },
  {
   "cell_type": "code",
   "execution_count": 40,
   "metadata": {},
   "outputs": [],
   "source": [
    "net = Net()\n",
    "criterion = nn.CrossEntropyLoss()\n",
    "optimizer = optim.SGD(net.parameters(), lr=0.001, momentum=0.9)\n",
    "f=0.5 # scales the clipping parameter, should be left at f = 0.5"
   ]
  },
  {
   "cell_type": "code",
   "execution_count": 23,
   "metadata": {
    "scrolled": true
   },
   "outputs": [
    {
     "name": "stdout",
     "output_type": "stream",
     "text": [
      "[1,  2000] loss: 2.274\n",
      "[1,  4000] loss: 2.311\n",
      "[1,  6000] loss: 2.314\n",
      "[1,  8000] loss: 2.312\n",
      "[1, 10000] loss: 2.311\n",
      "[1, 12000] loss: 2.311\n",
      "[2,  2000] loss: 2.312\n",
      "[2,  4000] loss: 2.314\n",
      "[2,  6000] loss: 2.311\n",
      "[2,  8000] loss: 2.312\n",
      "[2, 10000] loss: 2.311\n",
      "[2, 12000] loss: 2.312\n",
      "Finished Training\n"
     ]
    }
   ],
   "source": [
    "train('binarizeweights')"
   ]
  },
  {
   "cell_type": "code",
   "execution_count": 24,
   "metadata": {},
   "outputs": [
    {
     "name": "stdout",
     "output_type": "stream",
     "text": [
      "Accuracy of the network on the 10000 test images: 10 %\n"
     ]
    }
   ],
   "source": [
    "accuracy(net)"
   ]
  },
  {
   "cell_type": "markdown",
   "metadata": {},
   "source": [
    "#### 8. Randomize weights"
   ]
  },
  {
   "cell_type": "markdown",
   "metadata": {},
   "source": [
    "In this last experiment, I devised a concept somewhat reminiscent of the regularization technique of Dropout. Dropout is a method to induce robustness and encourage finding global minima, in which subsets of weights are \"frozen\" (i.e. not used in training) on particular minibatches. In contrast, my technique, instead of freezing the weights, simply reassigns them to normally-distributed numbers. This is a similar technique to the stochastic jump experiment examined above, in which all the weights are randomly perturbed. This technique differs in that only a very small subset of the weights are reassigned during each minibatch. Again, the \"frequency\" and variance of the randomly reassigned number are the knobs to tune in this example. In running this experiment, changing the variance below 0.1 did not have an effect on training while the frequency was at or above 100000. For frequencies less than this, weight randomization was influenced by both variance and frequency - a lower \"frequency\" requires a lower variance of noise in order to still train effectively."
   ]
  },
  {
   "cell_type": "code",
   "execution_count": 37,
   "metadata": {},
   "outputs": [],
   "source": [
    "net = Net()\n",
    "criterion = nn.CrossEntropyLoss()\n",
    "optimizer = optim.SGD(net.parameters(), lr=0.001, momentum=0.9)\n",
    "frequency=10000 # this is actually inverse of frequency, so the higher the frequency, the less random weight switching\n",
    "variance=0.1 # don't change it above 0.5 - will cause divergence in training"
   ]
  },
  {
   "cell_type": "code",
   "execution_count": 38,
   "metadata": {},
   "outputs": [
    {
     "name": "stdout",
     "output_type": "stream",
     "text": [
      "[1,  2000] loss: 2.224\n",
      "[1,  4000] loss: 1.856\n",
      "[1,  6000] loss: 1.722\n",
      "[1,  8000] loss: 1.651\n",
      "[1, 10000] loss: 1.630\n",
      "[1, 12000] loss: 1.606\n",
      "[2,  2000] loss: 1.577\n",
      "[2,  4000] loss: 1.583\n",
      "[2,  6000] loss: 1.552\n",
      "[2,  8000] loss: 1.566\n",
      "[2, 10000] loss: 1.563\n",
      "[2, 12000] loss: 1.534\n",
      "Finished Training\n"
     ]
    }
   ],
   "source": [
    "train('randomizeweights')"
   ]
  },
  {
   "cell_type": "code",
   "execution_count": 39,
   "metadata": {},
   "outputs": [
    {
     "name": "stdout",
     "output_type": "stream",
     "text": [
      "Accuracy of the network on the 10000 test images: 44 %\n"
     ]
    }
   ],
   "source": [
    "accuracy(net)"
   ]
  },
  {
   "cell_type": "markdown",
   "metadata": {},
   "source": [
    "### Conclusion"
   ]
  },
  {
   "cell_type": "markdown",
   "metadata": {},
   "source": [
    "This project focused on the effects of random perturbations to weights or gradients during training of neural networks. In particular, I used the heuristic of injecting randomness to the training process to encourage the escaping of \"shallow minima\". Many of the above experiments showed similar results: for example, randomization of the weights, additive noise and multiplicative noise all did not significantly alter the training process, as long as the noise variances or the application of the noisiness (as in weight randomization) were not too high. In some of these experiments (stochastic jumping and weight randomization), two parameters were present. Performing analyses of training in two parameters takes much more time, since there are more combinations of parameters to test and sometimes subtle interactions between parameters. Therefore, due to time constraints, I was not able to flesh out more precise relationships between the parameters and training in these two experiments."
   ]
  },
  {
   "cell_type": "markdown",
   "metadata": {},
   "source": [
    "In this project, I focused on the effects of randomness in training neural networks. In particular, I focused on these effects for small neural networks with low training times. Noise did not have a significant positive impact in my experiments, as it has in previous works. However, if noise was small, the lower precision induced by noise did not significantly impact the training of small neural networks."
   ]
  },
  {
   "cell_type": "markdown",
   "metadata": {},
   "source": [
    "Further work in this direction would include examining more closely the difference between multiplicative noise and additive noise, and in particular, why one seems to have a more significant impact than the other. In addition, I would like to further investigate weight binarization in small neural networks, whether or not it is possible in small nets, and to what degree. Lastly, it will be important to get sharper bounds on allowable noise in small neural net training, as understanding the precise relationship between noise and neural network training will be paramount in neuromorphic computing and embedded systems."
   ]
  },
  {
   "cell_type": "markdown",
   "metadata": {},
   "source": [
    "### References"
   ]
  },
  {
   "cell_type": "markdown",
   "metadata": {},
   "source": [
    "[1] Arvind Neelakantan, Luke Vilnis, Quoc V. Le, Ilya Sutskever, Lukasz Kaiser, Karol Kurach: “Adding Gradient Noise Improves Learning for Very Deep Networks”, 2015; arXiv:1511.06807.\n",
    "\n",
    "[2] Timothy P. Lillicrap, Daniel Cownden, Douglas B. Tweed: “Random feedback weights support learning in deep neural networks”, 2014; arXiv:1411.0247.\n",
    "\n",
    "[3] Matthieu Courbariaux, Itay Hubara, Daniel Soudry, Ran El-Yaniv: “Binarized Neural Networks: Training Deep Neural Networks with Weights and Activations Constrained to +1 or -1”, 2016; arXiv:1602.02830.\n",
    "\n",
    "[4] Paul Merolla, Rathinakumar Appuswamy, John Arthur, Steve K. Esser: “Deep neural networks are robust to weight binarization and other non-linear distortions”, 2016; arXiv:1606.01981."
   ]
  },
  {
   "cell_type": "code",
   "execution_count": null,
   "metadata": {},
   "outputs": [],
   "source": []
  }
 ],
 "metadata": {
  "kernelspec": {
   "display_name": "Python 2",
   "language": "python",
   "name": "python2"
  },
  "language_info": {
   "codemirror_mode": {
    "name": "ipython",
    "version": 2
   },
   "file_extension": ".py",
   "mimetype": "text/x-python",
   "name": "python",
   "nbconvert_exporter": "python",
   "pygments_lexer": "ipython2",
   "version": "2.7.12"
  }
 },
 "nbformat": 4,
 "nbformat_minor": 1
}
